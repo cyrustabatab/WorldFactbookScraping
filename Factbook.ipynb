{
 "cells": [
  {
   "cell_type": "code",
   "execution_count": 1,
   "id": "sticky-browser",
   "metadata": {},
   "outputs": [],
   "source": [
    "import requests\n",
    "from bs4 import BeautifulSoup\n",
    "import pandas as pd"
   ]
  },
  {
   "cell_type": "code",
   "execution_count": 13,
   "id": "endless-blanket",
   "metadata": {},
   "outputs": [],
   "source": [
    "url = 'https://www.cia.gov/the-world-factbook/countries/armenia/'"
   ]
  },
  {
   "cell_type": "code",
   "execution_count": 21,
   "id": "later-tsunami",
   "metadata": {},
   "outputs": [],
   "source": [
    "headers = {\"Accept-Language\": 'en-US,en;q=0.9','User-Agent':'Mozilla/5.0 (Windows NT 10.0; Win64; x64) AppleWebKit/537.36 (KHTML, like Gecko) Chrome/87.0.4280.67 Safari/537.36 Edg/87.0.664.47'}"
   ]
  },
  {
   "cell_type": "code",
   "execution_count": 22,
   "id": "suffering-dream",
   "metadata": {},
   "outputs": [],
   "source": [
    "try:\n",
    "    response = requests.get(url,headers=headers)\n",
    "    response.raise_for_status()\n",
    "except requests.exceptions.HTTPError as e:\n",
    "    print(e)"
   ]
  },
  {
   "cell_type": "code",
   "execution_count": 23,
   "id": "defensive-texture",
   "metadata": {},
   "outputs": [],
   "source": [
    "soup = BeautifulSoup(response.text)"
   ]
  },
  {
   "cell_type": "code",
   "execution_count": 26,
   "id": "hollow-constraint",
   "metadata": {},
   "outputs": [
    {
     "data": {
      "text/plain": [
       "'3,011,609 (July 2021 est.)'"
      ]
     },
     "execution_count": 26,
     "metadata": {},
     "output_type": "execute_result"
    }
   ],
   "source": [
    "population = soup.select_one('div#people-and-society p').getText()\n",
    "population\n"
   ]
  },
  {
   "cell_type": "code",
   "execution_count": 33,
   "id": "utility-poison",
   "metadata": {},
   "outputs": [],
   "source": [
    "from selenium import webdriver\n",
    "from selenium.common.exceptions import NoSuchElementException\n",
    "import time"
   ]
  },
  {
   "cell_type": "code",
   "execution_count": 48,
   "id": "played-agenda",
   "metadata": {},
   "outputs": [
    {
     "name": "stdout",
     "output_type": "stream",
     "text": [
      "Afghanistan 37,466,414 (July 2021 est.)\n",
      "Akrotiri approximately 18,195 on the Sovereign Base Areas of Akrotiri and Dhekelia including 11,000 Cypriots and 7,195 Service and UK-based contract personnel and dependents (2020)\n",
      "Albania 3,088,385 (July 2021 est.)\n",
      "Algeria 43,576,691 (July 2021 est.)\n",
      "American Samoa 46,366 (July 2021 est.)\n",
      "Andorra 85,645 (July 2021 est.)\n",
      "Angola 33,642,646 (July 2021 est.)\n",
      "Anguilla 18,403 (July 2021 est.)\n",
      "Antarctica no indigenous inhabitants, but there are both permanent and summer-only staffed research stations note: 53 countries have signed the 1959 Antarctic Treaty; 30 of those operate through their National Antarctic Program a number of seasonal-only (summer) and year-round research stations on the continent and its nearby islands south of 60 degrees south latitude (the region covered by the Antarctic Treaty); the population engaging in and supporting science or managing and protecting the Antarctic region varies from approximately 4,400 in summer to 1,100 in winter; in addition, approximately 1,000 personnel, including ship's crew and scientists doing onboard research, are present in the waters of the treaty region as of 2017, peak summer (December-February) maximum capacity in scientific stations - 4,877 total; Argentina 601, Australia 243, Belarus 12, Belgium 40, Brazil 66, Bulgaria 22, Chile 433, China 166, Czechia 20, Ecuador 34, Finland 17, France 90, France and Italy jointly 80, Germany 104, India 113, Italy 120, Japan 130, South Korea 130, Netherlands 10, NZ 86, Norway 70, Peru 30, Poland 40, Russia 335, South Africa 80, Spain 98, Sweden 20, Ukraine 24, UK 196, US 1,399, Uruguay 68 (2017) winter (June-August) maximum capacity in scientific station - 1,036 total; Argentina 221, Australia 52, Brazil 15, Chile 114, China 32, France 24, France and Italy jointly 13, Germany 9, India 48, Japan 40, Netherlands 10, South Korea 25, NZ 11, Norway 7, Poland 16, Russia 125, South Africa 15, Ukraine 12, UK 44, US 215, Uruguay 8 (2017) research stations operated within the Antarctic Treaty area (south of 60 degrees south latitude) by National Antarctic Programs year-round stations - approximately 40 total; Argentina 6, Australia 3, Brazil 1, Chile 6, China 2, France 1, France and Italy jointly 1, Germany 1, India 2, Japan 1, Netherlands 1, South Korea 2, NZ 1, Norway 1, Poland 1, Russia 5, South Africa 1, Ukraine 1, UK 2, US 3, Uruguay 2 (2017) a range of seasonal-only (summer) stations, camps, and refuges - Argentina, Australia, Belarus, Belgium, Bulgaria, Brazil, Chile, China, Czechia, Ecuador, Finland, France, Germany, India, Italy, Japan, Netherlands, South Korea, New Zealand, Norway, Peru, Poland, Russia, South Africa, Spain, Sweden, Ukraine, UK, US, and Uruguay (2017) in addition, during the austral summer some nations have numerous occupied locations such as tent camps, summer-long temporary facilities, and mobile traverses in support of research\n",
      "Antigua and Barbuda 99,175 (July 2021 est.)\n",
      "Argentina 45,864,941 (July 2021 est.)\n",
      "Armenia 3,011,609 (July 2021 est.)\n"
     ]
    }
   ],
   "source": [
    "driver_path = \"C:\\Development\\chromedriver.exe\"\n",
    "url = 'https://www.cia.gov/the-world-factbook/countries/'\n",
    "driver = webdriver.Chrome(driver_path)\n",
    "driver.get(url)\n",
    "\n",
    "\n",
    "import re\n",
    "#for _ in range(5):\n",
    "elements = driver.find_elements_by_css_selector('a.inline-link')\n",
    "for element in elements:\n",
    "    print(element.text,end=' ')\n",
    "    url = element.get_attribute('href')\n",
    "    response = requests.get(url)\n",
    "    soup = BeautifulSoup(response.text)\n",
    "    population = soup.select_one('div#people-and-society p').getText()\n",
    "    print(population)\n",
    "    #element.click()\n",
    "    #time.sleep(3)\n",
    "    #driver.back()\n",
    "    #time.sleep(10)\n",
    "\n",
    "    #next_button = driver.find_element_by_xpath('/html/body/div/div[1]/div[2]/main/section/div/div/div[2]/div[2]/div/div/span[3]')\n",
    "    #next_button.click()\n",
    "    #time.sleep(3)"
   ]
  },
  {
   "cell_type": "code",
   "execution_count": 35,
   "id": "third-calgary",
   "metadata": {},
   "outputs": [],
   "source": [
    "import iso3166"
   ]
  },
  {
   "cell_type": "code",
   "execution_count": 37,
   "id": "therapeutic-assault",
   "metadata": {},
   "outputs": [
    {
     "data": {
      "text/plain": [
       "Country(name='Bahamas', alpha2='BS', alpha3='BHS', numeric='044', apolitical_name='Bahamas')"
      ]
     },
     "execution_count": 37,
     "metadata": {},
     "output_type": "execute_result"
    }
   ],
   "source": [
    "iso3166.countries.get('Bahamas')"
   ]
  },
  {
   "cell_type": "code",
   "execution_count": 49,
   "id": "confidential-mixture",
   "metadata": {},
   "outputs": [],
   "source": [
    "url = 'https://www.un.org/en/member-states/'"
   ]
  },
  {
   "cell_type": "code",
   "execution_count": 50,
   "id": "solar-gabriel",
   "metadata": {},
   "outputs": [],
   "source": [
    "try:\n",
    "    response = requests.get(url)\n",
    "    response.raise_for_status()\n",
    "except requests.exceptions.HTTPError as e:\n",
    "    print(e)"
   ]
  },
  {
   "cell_type": "code",
   "execution_count": 51,
   "id": "completed-aruba",
   "metadata": {},
   "outputs": [],
   "source": [
    "soup = BeautifulSoup(response.text)"
   ]
  },
  {
   "cell_type": "code",
   "execution_count": 55,
   "id": "married-determination",
   "metadata": {},
   "outputs": [],
   "source": [
    "states = soup.select('span.member-state-name')"
   ]
  },
  {
   "cell_type": "code",
   "execution_count": 58,
   "id": "visible-merchant",
   "metadata": {},
   "outputs": [],
   "source": [
    "member_states = []"
   ]
  },
  {
   "cell_type": "code",
   "execution_count": 59,
   "id": "corresponding-trace",
   "metadata": {},
   "outputs": [],
   "source": [
    "for state in states:\n",
    "    member_states.append(state.getText())"
   ]
  },
  {
   "cell_type": "code",
   "execution_count": 61,
   "id": "northern-mailing",
   "metadata": {},
   "outputs": [
    {
     "data": {
      "text/plain": [
       "0                            Afghanistan\n",
       "1                                Albania\n",
       "2                                Algeria\n",
       "3                                Andorra\n",
       "4                                 Angola\n",
       "                     ...                \n",
       "188    Venezuela, Bolivarian Republic of\n",
       "189                             Viet Nam\n",
       "190                                Yemen\n",
       "191                               Zambia\n",
       "192                             Zimbabwe\n",
       "Length: 193, dtype: object"
      ]
     },
     "execution_count": 61,
     "metadata": {},
     "output_type": "execute_result"
    }
   ],
   "source": [
    "pd.Series(member_states)"
   ]
  },
  {
   "cell_type": "code",
   "execution_count": 62,
   "id": "threaded-concrete",
   "metadata": {},
   "outputs": [],
   "source": [
    "state_containers = soup.find_all(class_=\"member-state\")\n"
   ]
  },
  {
   "cell_type": "code",
   "execution_count": 63,
   "id": "olive-implement",
   "metadata": {},
   "outputs": [
    {
     "data": {
      "text/plain": [
       "193"
      ]
     },
     "execution_count": 63,
     "metadata": {},
     "output_type": "execute_result"
    }
   ],
   "source": [
    "len(state_containers)"
   ]
  },
  {
   "cell_type": "code",
   "execution_count": 71,
   "id": "personalized-convenience",
   "metadata": {},
   "outputs": [],
   "source": [
    "data = []"
   ]
  },
  {
   "cell_type": "code",
   "execution_count": 72,
   "id": "greenhouse-pocket",
   "metadata": {},
   "outputs": [],
   "source": [
    "for state_container in state_containers:\n",
    "    state_name = state_container.select_one('span.member-state-name').getText()\n",
    "    join_date = state_container.select_one('span.date-display-single').getText()\n",
    "    data.append([state_name,join_date])"
   ]
  },
  {
   "cell_type": "code",
   "execution_count": 75,
   "id": "laden-diving",
   "metadata": {},
   "outputs": [],
   "source": [
    "df = pd.DataFrame(data,columns=['Name','Join_Date'])"
   ]
  },
  {
   "cell_type": "code",
   "execution_count": 76,
   "id": "engaging-compensation",
   "metadata": {},
   "outputs": [
    {
     "data": {
      "text/html": [
       "<div>\n",
       "<style scoped>\n",
       "    .dataframe tbody tr th:only-of-type {\n",
       "        vertical-align: middle;\n",
       "    }\n",
       "\n",
       "    .dataframe tbody tr th {\n",
       "        vertical-align: top;\n",
       "    }\n",
       "\n",
       "    .dataframe thead th {\n",
       "        text-align: right;\n",
       "    }\n",
       "</style>\n",
       "<table border=\"1\" class=\"dataframe\">\n",
       "  <thead>\n",
       "    <tr style=\"text-align: right;\">\n",
       "      <th></th>\n",
       "      <th>Name</th>\n",
       "      <th>Join_Date</th>\n",
       "    </tr>\n",
       "  </thead>\n",
       "  <tbody>\n",
       "    <tr>\n",
       "      <th>0</th>\n",
       "      <td>Afghanistan</td>\n",
       "      <td>19-11-46</td>\n",
       "    </tr>\n",
       "    <tr>\n",
       "      <th>1</th>\n",
       "      <td>Albania</td>\n",
       "      <td>14-12-55</td>\n",
       "    </tr>\n",
       "    <tr>\n",
       "      <th>2</th>\n",
       "      <td>Algeria</td>\n",
       "      <td>08-10-62</td>\n",
       "    </tr>\n",
       "    <tr>\n",
       "      <th>3</th>\n",
       "      <td>Andorra</td>\n",
       "      <td>28-07-93</td>\n",
       "    </tr>\n",
       "    <tr>\n",
       "      <th>4</th>\n",
       "      <td>Angola</td>\n",
       "      <td>01-12-76</td>\n",
       "    </tr>\n",
       "    <tr>\n",
       "      <th>...</th>\n",
       "      <td>...</td>\n",
       "      <td>...</td>\n",
       "    </tr>\n",
       "    <tr>\n",
       "      <th>188</th>\n",
       "      <td>Venezuela, Bolivarian Republic of</td>\n",
       "      <td>15-11-45</td>\n",
       "    </tr>\n",
       "    <tr>\n",
       "      <th>189</th>\n",
       "      <td>Viet Nam</td>\n",
       "      <td>20-09-77</td>\n",
       "    </tr>\n",
       "    <tr>\n",
       "      <th>190</th>\n",
       "      <td>Yemen</td>\n",
       "      <td>30-09-47</td>\n",
       "    </tr>\n",
       "    <tr>\n",
       "      <th>191</th>\n",
       "      <td>Zambia</td>\n",
       "      <td>01-12-64</td>\n",
       "    </tr>\n",
       "    <tr>\n",
       "      <th>192</th>\n",
       "      <td>Zimbabwe</td>\n",
       "      <td>25-08-80</td>\n",
       "    </tr>\n",
       "  </tbody>\n",
       "</table>\n",
       "<p>193 rows × 2 columns</p>\n",
       "</div>"
      ],
      "text/plain": [
       "                                  Name Join_Date\n",
       "0                          Afghanistan  19-11-46\n",
       "1                              Albania  14-12-55\n",
       "2                              Algeria  08-10-62\n",
       "3                              Andorra  28-07-93\n",
       "4                               Angola  01-12-76\n",
       "..                                 ...       ...\n",
       "188  Venezuela, Bolivarian Republic of  15-11-45\n",
       "189                           Viet Nam  20-09-77\n",
       "190                              Yemen  30-09-47\n",
       "191                             Zambia  01-12-64\n",
       "192                           Zimbabwe  25-08-80\n",
       "\n",
       "[193 rows x 2 columns]"
      ]
     },
     "execution_count": 76,
     "metadata": {},
     "output_type": "execute_result"
    }
   ],
   "source": [
    "df"
   ]
  },
  {
   "cell_type": "code",
   "execution_count": 85,
   "id": "corporate-tobacco",
   "metadata": {},
   "outputs": [
    {
     "data": {
      "text/plain": [
       "0     2046-11-19\n",
       "1     2055-12-14\n",
       "2     2062-10-08\n",
       "3     1993-07-28\n",
       "4     1976-12-01\n",
       "         ...    \n",
       "188   2045-11-15\n",
       "189   1977-09-20\n",
       "190   2047-09-30\n",
       "191   2064-12-01\n",
       "192   1980-08-25\n",
       "Name: Join_Date, Length: 193, dtype: datetime64[ns]"
      ]
     },
     "execution_count": 85,
     "metadata": {},
     "output_type": "execute_result"
    }
   ],
   "source": [
    "pd.to_datetime(df.Join_Date,format=\"%d-%m-%y\",infer_datetime_format=True)"
   ]
  },
  {
   "cell_type": "code",
   "execution_count": 90,
   "id": "actual-market",
   "metadata": {},
   "outputs": [
    {
     "data": {
      "text/plain": [
       "Name                 Afghanistan\n",
       "Join_Date    2045-10-24 00:00:00\n",
       "dtype: object"
      ]
     },
     "execution_count": 90,
     "metadata": {},
     "output_type": "execute_result"
    }
   ],
   "source": [
    "df[df.Join_Date.dt.year > 2015].min()"
   ]
  },
  {
   "cell_type": "code",
   "execution_count": 92,
   "id": "turkish-dodge",
   "metadata": {},
   "outputs": [
    {
     "data": {
      "text/html": [
       "<div>\n",
       "<style scoped>\n",
       "    .dataframe tbody tr th:only-of-type {\n",
       "        vertical-align: middle;\n",
       "    }\n",
       "\n",
       "    .dataframe tbody tr th {\n",
       "        vertical-align: top;\n",
       "    }\n",
       "\n",
       "    .dataframe thead th {\n",
       "        text-align: right;\n",
       "    }\n",
       "</style>\n",
       "<table border=\"1\" class=\"dataframe\">\n",
       "  <thead>\n",
       "    <tr style=\"text-align: right;\">\n",
       "      <th></th>\n",
       "      <th>Name</th>\n",
       "      <th>Join_Date</th>\n",
       "    </tr>\n",
       "  </thead>\n",
       "  <tbody>\n",
       "    <tr>\n",
       "      <th>0</th>\n",
       "      <td>Afghanistan</td>\n",
       "      <td>2046-11-19</td>\n",
       "    </tr>\n",
       "  </tbody>\n",
       "</table>\n",
       "</div>"
      ],
      "text/plain": [
       "          Name  Join_Date\n",
       "0  Afghanistan 2046-11-19"
      ]
     },
     "execution_count": 92,
     "metadata": {},
     "output_type": "execute_result"
    }
   ],
   "source": [
    "df[df.Name == 'Afghanistan']"
   ]
  },
  {
   "cell_type": "code",
   "execution_count": 104,
   "id": "moved-competition",
   "metadata": {},
   "outputs": [],
   "source": [
    "x = pd.Timestamp(\"May 20 2046\")"
   ]
  },
  {
   "cell_type": "code",
   "execution_count": 106,
   "id": "lightweight-liberal",
   "metadata": {},
   "outputs": [
    {
     "data": {
      "text/plain": [
       "Timestamp('1946-05-20 00:00:00')"
      ]
     },
     "execution_count": 106,
     "metadata": {},
     "output_type": "execute_result"
    }
   ],
   "source": [
    "x.replace(year=x.year -100)"
   ]
  },
  {
   "cell_type": "code",
   "execution_count": 108,
   "id": "taken-massage",
   "metadata": {},
   "outputs": [
    {
     "data": {
      "text/plain": [
       "2068     3\n",
       "2066     4\n",
       "2065     3\n",
       "2064     3\n",
       "2063     2\n",
       "2062     6\n",
       "2061     4\n",
       "2060    17\n",
       "2058     1\n",
       "2057     2\n",
       "2056     4\n",
       "2055    16\n",
       "2050     1\n",
       "2049     1\n",
       "2048     1\n",
       "2047     2\n",
       "2046     4\n",
       "2045    49\n",
       "2011     1\n",
       "2006     1\n",
       "2002     2\n",
       "2000     2\n",
       "1999     3\n",
       "1994     1\n",
       "1993     6\n",
       "1992    13\n",
       "1991     7\n",
       "1990     2\n",
       "1984     1\n",
       "1983     1\n",
       "1981     3\n",
       "1980     2\n",
       "1979     1\n",
       "1978     2\n",
       "1977     2\n",
       "1976     3\n",
       "1975     6\n",
       "1974     3\n",
       "1973     2\n",
       "1971     5\n",
       "1970     1\n",
       "Name: Join_Date, dtype: int64"
      ]
     },
     "execution_count": 108,
     "metadata": {},
     "output_type": "execute_result"
    }
   ],
   "source": [
    "df.Join_Date.dt.year.value_counts().sort_index(ascending=False)"
   ]
  },
  {
   "cell_type": "code",
   "execution_count": 110,
   "id": "portuguese-default",
   "metadata": {},
   "outputs": [],
   "source": [
    "df.loc[df.Join_Date.dt.year> 2020,'Join_Date'] = df.loc[df.Join_Date.dt.year > 2020,'Join_Date'].apply(lambda value: value.replace(value.year - 100))"
   ]
  },
  {
   "cell_type": "code",
   "execution_count": 111,
   "id": "successful-bristol",
   "metadata": {},
   "outputs": [
    {
     "data": {
      "text/html": [
       "<div>\n",
       "<style scoped>\n",
       "    .dataframe tbody tr th:only-of-type {\n",
       "        vertical-align: middle;\n",
       "    }\n",
       "\n",
       "    .dataframe tbody tr th {\n",
       "        vertical-align: top;\n",
       "    }\n",
       "\n",
       "    .dataframe thead th {\n",
       "        text-align: right;\n",
       "    }\n",
       "</style>\n",
       "<table border=\"1\" class=\"dataframe\">\n",
       "  <thead>\n",
       "    <tr style=\"text-align: right;\">\n",
       "      <th></th>\n",
       "      <th>Name</th>\n",
       "      <th>Join_Date</th>\n",
       "    </tr>\n",
       "  </thead>\n",
       "  <tbody>\n",
       "    <tr>\n",
       "      <th>0</th>\n",
       "      <td>Afghanistan</td>\n",
       "      <td>1946-11-19</td>\n",
       "    </tr>\n",
       "    <tr>\n",
       "      <th>1</th>\n",
       "      <td>Albania</td>\n",
       "      <td>1955-12-14</td>\n",
       "    </tr>\n",
       "    <tr>\n",
       "      <th>2</th>\n",
       "      <td>Algeria</td>\n",
       "      <td>1962-10-08</td>\n",
       "    </tr>\n",
       "    <tr>\n",
       "      <th>3</th>\n",
       "      <td>Andorra</td>\n",
       "      <td>1993-07-28</td>\n",
       "    </tr>\n",
       "    <tr>\n",
       "      <th>4</th>\n",
       "      <td>Angola</td>\n",
       "      <td>1976-12-01</td>\n",
       "    </tr>\n",
       "    <tr>\n",
       "      <th>...</th>\n",
       "      <td>...</td>\n",
       "      <td>...</td>\n",
       "    </tr>\n",
       "    <tr>\n",
       "      <th>188</th>\n",
       "      <td>Venezuela, Bolivarian Republic of</td>\n",
       "      <td>1945-11-15</td>\n",
       "    </tr>\n",
       "    <tr>\n",
       "      <th>189</th>\n",
       "      <td>Viet Nam</td>\n",
       "      <td>1977-09-20</td>\n",
       "    </tr>\n",
       "    <tr>\n",
       "      <th>190</th>\n",
       "      <td>Yemen</td>\n",
       "      <td>1947-09-30</td>\n",
       "    </tr>\n",
       "    <tr>\n",
       "      <th>191</th>\n",
       "      <td>Zambia</td>\n",
       "      <td>1964-12-01</td>\n",
       "    </tr>\n",
       "    <tr>\n",
       "      <th>192</th>\n",
       "      <td>Zimbabwe</td>\n",
       "      <td>1980-08-25</td>\n",
       "    </tr>\n",
       "  </tbody>\n",
       "</table>\n",
       "<p>193 rows × 2 columns</p>\n",
       "</div>"
      ],
      "text/plain": [
       "                                  Name  Join_Date\n",
       "0                          Afghanistan 1946-11-19\n",
       "1                              Albania 1955-12-14\n",
       "2                              Algeria 1962-10-08\n",
       "3                              Andorra 1993-07-28\n",
       "4                               Angola 1976-12-01\n",
       "..                                 ...        ...\n",
       "188  Venezuela, Bolivarian Republic of 1945-11-15\n",
       "189                           Viet Nam 1977-09-20\n",
       "190                              Yemen 1947-09-30\n",
       "191                             Zambia 1964-12-01\n",
       "192                           Zimbabwe 1980-08-25\n",
       "\n",
       "[193 rows x 2 columns]"
      ]
     },
     "execution_count": 111,
     "metadata": {},
     "output_type": "execute_result"
    }
   ],
   "source": [
    "df"
   ]
  },
  {
   "cell_type": "code",
   "execution_count": 117,
   "id": "absolute-employee",
   "metadata": {},
   "outputs": [
    {
     "data": {
      "text/plain": [
       "<AxesSubplot:xlabel='Join_Date'>"
      ]
     },
     "execution_count": 117,
     "metadata": {},
     "output_type": "execute_result"
    },
    {
     "data": {
      "image/png": "[encoded data removed]",
      "text/plain": [
       "<Figure size 432x288 with 1 Axes>"
      ]
     },
     "metadata": {
      "needs_background": "light"
     },
     "output_type": "display_data"
    }
   ],
   "source": [
    "df.resample('Y',on='Join_Date',kind='period').size().plot()"
   ]
  },
  {
   "cell_type": "code",
   "execution_count": null,
   "id": "unauthorized-guide",
   "metadata": {},
   "outputs": [],
   "source": []
  }
 ],
 "metadata": {
  "kernelspec": {
   "display_name": "Python 3",
   "language": "python",
   "name": "python3"
  },
  "language_info": {
   "codemirror_mode": {
    "name": "ipython",
    "version": 3
   },
   "file_extension": ".py",
   "mimetype": "text/x-python",
   "name": "python",
   "nbconvert_exporter": "python",
   "pygments_lexer": "ipython3",
   "version": "3.7.9"
  }
 },
 "nbformat": 4,
 "nbformat_minor": 5
}
