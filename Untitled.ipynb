{
 "cells": [
  {
   "cell_type": "code",
   "execution_count": 1,
   "id": "secret-portland",
   "metadata": {},
   "outputs": [],
   "source": [
    "import requests\n",
    "from bs4 import BeautifulSoup\n",
    "import pandas as pd"
   ]
  },
  {
   "cell_type": "code",
   "execution_count": 13,
   "id": "objective-wesley",
   "metadata": {},
   "outputs": [],
   "source": [
    "url = 'https://www.cia.gov/the-world-factbook/countries/armenia/'"
   ]
  },
  {
   "cell_type": "code",
   "execution_count": 21,
   "id": "suburban-cache",
   "metadata": {},
   "outputs": [],
   "source": [
    "headers = {\"Accept-Language\": 'en-US,en;q=0.9','User-Agent':'Mozilla/5.0 (Windows NT 10.0; Win64; x64) AppleWebKit/537.36 (KHTML, like Gecko) Chrome/87.0.4280.67 Safari/537.36 Edg/87.0.664.47'}"
   ]
  },
  {
   "cell_type": "code",
   "execution_count": 22,
   "id": "urban-security",
   "metadata": {},
   "outputs": [],
   "source": [
    "try:\n",
    "    response = requests.get(url,headers=headers)\n",
    "    response.raise_for_status()\n",
    "except requests.exceptions.HTTPError as e:\n",
    "    print(e)"
   ]
  },
  {
   "cell_type": "code",
   "execution_count": 23,
   "id": "vocational-principal",
   "metadata": {},
   "outputs": [],
   "source": [
    "soup = BeautifulSoup(response.text)"
   ]
  },
  {
   "cell_type": "code",
   "execution_count": 26,
   "id": "driving-pledge",
   "metadata": {},
   "outputs": [
    {
     "data": {
      "text/plain": [
       "'3,011,609 (July 2021 est.)'"
      ]
     },
     "execution_count": 26,
     "metadata": {},
     "output_type": "execute_result"
    }
   ],
   "source": [
    "population = soup.select_one('div#people-and-society p').getText()\n",
    "population\n"
   ]
  },
  {
   "cell_type": "code",
   "execution_count": 33,
   "id": "subjective-optics",
   "metadata": {},
   "outputs": [],
   "source": [
    "from selenium import webdriver\n",
    "from selenium.common.exceptions import NoSuchElementException\n",
    "import time"
   ]
  },
  {
   "cell_type": "code",
   "execution_count": 48,
   "id": "extra-blake",
   "metadata": {},
   "outputs": [
    {
     "name": "stdout",
     "output_type": "stream",
     "text": [
      "Afghanistan 37,466,414 (July 2021 est.)\n",
      "Akrotiri approximately 18,195 on the Sovereign Base Areas of Akrotiri and Dhekelia including 11,000 Cypriots and 7,195 Service and UK-based contract personnel and dependents (2020)\n",
      "Albania 3,088,385 (July 2021 est.)\n",
      "Algeria 43,576,691 (July 2021 est.)\n",
      "American Samoa 46,366 (July 2021 est.)\n",
      "Andorra 85,645 (July 2021 est.)\n",
      "Angola 33,642,646 (July 2021 est.)\n",
      "Anguilla 18,403 (July 2021 est.)\n",
      "Antarctica no indigenous inhabitants, but there are both permanent and summer-only staffed research stations note: 53 countries have signed the 1959 Antarctic Treaty; 30 of those operate through their National Antarctic Program a number of seasonal-only (summer) and year-round research stations on the continent and its nearby islands south of 60 degrees south latitude (the region covered by the Antarctic Treaty); the population engaging in and supporting science or managing and protecting the Antarctic region varies from approximately 4,400 in summer to 1,100 in winter; in addition, approximately 1,000 personnel, including ship's crew and scientists doing onboard research, are present in the waters of the treaty region as of 2017, peak summer (December-February) maximum capacity in scientific stations - 4,877 total; Argentina 601, Australia 243, Belarus 12, Belgium 40, Brazil 66, Bulgaria 22, Chile 433, China 166, Czechia 20, Ecuador 34, Finland 17, France 90, France and Italy jointly 80, Germany 104, India 113, Italy 120, Japan 130, South Korea 130, Netherlands 10, NZ 86, Norway 70, Peru 30, Poland 40, Russia 335, South Africa 80, Spain 98, Sweden 20, Ukraine 24, UK 196, US 1,399, Uruguay 68 (2017) winter (June-August) maximum capacity in scientific station - 1,036 total; Argentina 221, Australia 52, Brazil 15, Chile 114, China 32, France 24, France and Italy jointly 13, Germany 9, India 48, Japan 40, Netherlands 10, South Korea 25, NZ 11, Norway 7, Poland 16, Russia 125, South Africa 15, Ukraine 12, UK 44, US 215, Uruguay 8 (2017) research stations operated within the Antarctic Treaty area (south of 60 degrees south latitude) by National Antarctic Programs year-round stations - approximately 40 total; Argentina 6, Australia 3, Brazil 1, Chile 6, China 2, France 1, France and Italy jointly 1, Germany 1, India 2, Japan 1, Netherlands 1, South Korea 2, NZ 1, Norway 1, Poland 1, Russia 5, South Africa 1, Ukraine 1, UK 2, US 3, Uruguay 2 (2017) a range of seasonal-only (summer) stations, camps, and refuges - Argentina, Australia, Belarus, Belgium, Bulgaria, Brazil, Chile, China, Czechia, Ecuador, Finland, France, Germany, India, Italy, Japan, Netherlands, South Korea, New Zealand, Norway, Peru, Poland, Russia, South Africa, Spain, Sweden, Ukraine, UK, US, and Uruguay (2017) in addition, during the austral summer some nations have numerous occupied locations such as tent camps, summer-long temporary facilities, and mobile traverses in support of research\n",
      "Antigua and Barbuda 99,175 (July 2021 est.)\n",
      "Argentina 45,864,941 (July 2021 est.)\n",
      "Armenia 3,011,609 (July 2021 est.)\n"
     ]
    }
   ],
   "source": [
    "driver_path = \"C:\\Development\\chromedriver.exe\"\n",
    "url = 'https://www.cia.gov/the-world-factbook/countries/'\n",
    "driver = webdriver.Chrome(driver_path)\n",
    "driver.get(url)\n",
    "\n",
    "\n",
    "import re\n",
    "#for _ in range(5):\n",
    "elements = driver.find_elements_by_css_selector('a.inline-link')\n",
    "for element in elements:\n",
    "    print(element.text,end=' ')\n",
    "    url = element.get_attribute('href')\n",
    "    response = requests.get(url)\n",
    "    soup = BeautifulSoup(response.text)\n",
    "    population = soup.select_one('div#people-and-society p').getText()\n",
    "    print(population)\n",
    "    #element.click()\n",
    "    #time.sleep(3)\n",
    "    #driver.back()\n",
    "    #time.sleep(10)\n",
    "\n",
    "    #next_button = driver.find_element_by_xpath('/html/body/div/div[1]/div[2]/main/section/div/div/div[2]/div[2]/div/div/span[3]')\n",
    "    #next_button.click()\n",
    "    #time.sleep(3)"
   ]
  },
  {
   "cell_type": "code",
   "execution_count": 35,
   "id": "swiss-august",
   "metadata": {},
   "outputs": [],
   "source": [
    "import iso3166"
   ]
  },
  {
   "cell_type": "code",
   "execution_count": 37,
   "id": "daily-february",
   "metadata": {},
   "outputs": [
    {
     "data": {
      "text/plain": [
       "Country(name='Bahamas', alpha2='BS', alpha3='BHS', numeric='044', apolitical_name='Bahamas')"
      ]
     },
     "execution_count": 37,
     "metadata": {},
     "output_type": "execute_result"
    }
   ],
   "source": [
    "iso3166.countries.get('Bahamas')"
   ]
  },
  {
   "cell_type": "code",
   "execution_count": null,
   "id": "thermal-dover",
   "metadata": {},
   "outputs": [],
   "source": []
  }
 ],
 "metadata": {
  "kernelspec": {
   "display_name": "Python 3",
   "language": "python",
   "name": "python3"
  },
  "language_info": {
   "codemirror_mode": {
    "name": "ipython",
    "version": 3
   },
   "file_extension": ".py",
   "mimetype": "text/x-python",
   "name": "python",
   "nbconvert_exporter": "python",
   "pygments_lexer": "ipython3",
   "version": "3.7.9"
  }
 },
 "nbformat": 4,
 "nbformat_minor": 5
}
